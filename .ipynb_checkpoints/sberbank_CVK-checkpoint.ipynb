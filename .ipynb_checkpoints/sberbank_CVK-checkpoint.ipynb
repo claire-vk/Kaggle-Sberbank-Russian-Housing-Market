{
 "cells": [
  {
   "cell_type": "markdown",
   "metadata": {},
   "source": [
    "# Sberbank Russian Housing Market"
   ]
  },
  {
   "cell_type": "code",
   "execution_count": 1,
   "metadata": {
    "collapsed": true,
    "scrolled": true
   },
   "outputs": [],
   "source": [
    "import pandas as pd\n",
    "from pandas.io.json import build_table_schema\n",
    "import matplotlib.pyplot as plt\n",
    "import matplotlib\n",
    "import seaborn as sns\n",
    "import missingno as msno\n",
    "import numpy as np\n",
    "import scipy as sp\n",
    "import os\n",
    "import xgboost as xgb\n",
    "import seaborn as sns\n",
    "from sklearn import model_selection, preprocessing\n",
    "# import visualization as vis\n",
    "from pandas.plotting import scatter_matrix\n",
    "import warnings\n",
    "warnings.filterwarnings(\"ignore\")\n",
    "%matplotlib inline\n",
    "color = sns.color_palette()\n",
    "\n",
    "DIR_PATH = './'"
   ]
  },
  {
   "cell_type": "code",
   "execution_count": 2,
   "metadata": {},
   "outputs": [
    {
     "data": {
      "text/plain": [
       "['/usr/local/lib/python2.7/site-packages/pandas']"
      ]
     },
     "execution_count": 2,
     "metadata": {},
     "output_type": "execute_result"
    }
   ],
   "source": [
    "pd.__path__"
   ]
  },
  {
   "cell_type": "code",
   "execution_count": 3,
   "metadata": {
    "collapsed": true
   },
   "outputs": [],
   "source": [
    "## loading data as Pandas dataframes\n",
    "train_raw = pd.read_csv(os.path.join(DIR_PATH, 'train.csv'), \n",
    "                        header='infer', \n",
    "                        index_col='id',\n",
    "                        parse_dates=['timestamp'])\n",
    "test_raw = pd.read_csv(os.path.join(DIR_PATH, 'test.csv'), \n",
    "                       header='infer', \n",
    "                       index_col='id',\n",
    "                       parse_dates=['timestamp'])\n",
    "macro = pd.read_csv(os.path.join(DIR_PATH, 'macro.csv'), \n",
    "                    header='infer')"
   ]
  },
  {
   "cell_type": "markdown",
   "metadata": {},
   "source": [
    "### Data Understanding & Data Preparation"
   ]
  },
  {
   "cell_type": "code",
   "execution_count": 4,
   "metadata": {
    "collapsed": true
   },
   "outputs": [],
   "source": [
    "## data schema\n",
    "train_schema = pd.DataFrame(build_table_schema(train_raw)['fields'])\n",
    "macro_schema = pd.DataFrame(build_table_schema(macro)['fields'])"
   ]
  },
  {
   "cell_type": "code",
   "execution_count": 5,
   "metadata": {
    "collapsed": true
   },
   "outputs": [],
   "source": [
    "## start from property features first\n",
    "property_features = ['timestamp', 'full_sq', 'life_sq', 'floor', \n",
    "                     'max_floor', 'material', 'build_year', 'num_room',\n",
    "                     'kitch_sq', 'state', 'product_type', 'sub_area', \n",
    "                     'price_doc']\n",
    "\n",
    "train = train_raw[property_features]\n",
    "test = test_raw[property_features[:-1]]"
   ]
  },
  {
   "cell_type": "markdown",
   "metadata": {},
   "source": [
    "## Cleaning the property features"
   ]
  },
  {
   "cell_type": "markdown",
   "metadata": {},
   "source": [
    "## full_sq:"
   ]
  },
  {
   "cell_type": "code",
   "execution_count": 6,
   "metadata": {
    "collapsed": true
   },
   "outputs": [],
   "source": [
    "# <10 -> NA\n",
    "train.loc[train['full_sq'] <10, 'full_sq'] = np.nan\n",
    "test.loc[test['full_sq'] <10, 'full_sq'] = np.nan\n",
    "\n",
    "# >300 -> NA\n",
    "train.loc[train['full_sq'] > 300, 'full_sq'] = np.nan\n",
    "test.loc[test['full_sq'] > 300, 'full_sq'] = np.nan"
   ]
  },
  {
   "cell_type": "markdown",
   "metadata": {},
   "source": [
    "## life_sq:"
   ]
  },
  {
   "cell_type": "code",
   "execution_count": 7,
   "metadata": {
    "collapsed": true
   },
   "outputs": [],
   "source": [
    "# 0 or 1 -> NA\n",
    "train.loc[(train['life_sq'] == 0) | (train['life_sq'] == 1), 'life_sq'] = np.nan\n",
    "test.loc[(test['life_sq'] == 0) | (test['life_sq'] == 1), 'life_sq'] = np.nan\n",
    "\n",
    "# > 300 -> NA\n",
    "train.loc[train['life_sq'] > 300, 'life_sq'] = np.nan\n",
    "test.loc[test['life_sq'] > 300, 'life_sq'] = np.nan\n",
    "\n",
    "# full_sq < life_sq & life_sq > 100 -> NA\n",
    "train.loc[(train['full_sq'] < train['life_sq']) & (train['life_sq'] > 100), 'life_sq'] = np.nan\n",
    "test.loc[(test['full_sq'] < test['life_sq']) & (test['life_sq'] > 100), 'life_sq'] = np.nan"
   ]
  },
  {
   "cell_type": "markdown",
   "metadata": {},
   "source": [
    "## max_floor:"
   ]
  },
  {
   "cell_type": "code",
   "execution_count": 8,
   "metadata": {
    "collapsed": true
   },
   "outputs": [],
   "source": [
    "# # 117 -> 17\n",
    "train.loc[train['max_floor'] == 117, 'max_floor'] = 17\n",
    "test.loc[test['max_floor'] == 117, 'max_floor'] = 17\n",
    "\n",
    "# floor > max_floor -> NA\n",
    "train.loc[train['floor'] > train['max_floor'], 'max_floor'] = np.nan\n",
    "test.loc[test['floor'] > test['max_floor'], 'max_floor'] = np.nan\n",
    "\n",
    "# >60 -> NA\n",
    "train.loc[train['max_floor'] > 60, 'max_floor'] = np.nan\n",
    "test.loc[test['max_floor'] > 60, 'max_floor'] = np.nan\n",
    "\n",
    "# 0 -> NA\n",
    "train.loc[train['max_floor'] == 60, 'max_floor'] = np.nan\n",
    "test.loc[test['max_floor'] == 60, 'max_floor'] = np.nan"
   ]
  },
  {
   "cell_type": "markdown",
   "metadata": {},
   "source": [
    "## material:"
   ]
  },
  {
   "cell_type": "code",
   "execution_count": 9,
   "metadata": {
    "collapsed": true
   },
   "outputs": [],
   "source": [
    "# 3 -> NA\n",
    "col = 'material'\n",
    "train.loc[train[col] == 3, col] = np.nan\n",
    "test.loc[test[col] == 3, col] = np.nan"
   ]
  },
  {
   "cell_type": "markdown",
   "metadata": {},
   "source": [
    "## build_year:"
   ]
  },
  {
   "cell_type": "code",
   "execution_count": 10,
   "metadata": {
    "collapsed": true
   },
   "outputs": [],
   "source": [
    "# 20052009 -> 2009 \n",
    "train.loc[train['build_year'] == 20052009, 'build_year'] = 2009\n",
    "test.loc[test['build_year'] == 20052009, 'build_year'] = 2009\n",
    "\n",
    "#  4965 -> 1965\n",
    "train.loc[train['build_year'] == 4965, 'build_year'] = 1965\n",
    "test.loc[test['build_year'] == 4965, 'build_year'] = 1965\n",
    "\n",
    "#  71 -> 1971\n",
    "train.loc[train['build_year'] == 71, 'build_year'] = 1971\n",
    "test.loc[test['build_year'] == 71, 'build_year'] = 1971\n",
    "\n",
    "#  <1800 -> NA\n",
    "train.loc[train['build_year'] < 1800, 'build_year'] = np.nan\n",
    "test.loc[test['build_year'] < 1800, 'build_year'] = np.nan"
   ]
  },
  {
   "cell_type": "markdown",
   "metadata": {},
   "source": [
    "## num_room:"
   ]
  },
  {
   "cell_type": "code",
   "execution_count": 11,
   "metadata": {
    "collapsed": true
   },
   "outputs": [],
   "source": [
    "# >9 -> NA\n",
    "train.loc[train['num_room'] > 9, 'num_room'] = np.nan\n",
    "test.loc[test['num_room'] > 9, 'num_room'] = np.nan"
   ]
  },
  {
   "cell_type": "markdown",
   "metadata": {},
   "source": [
    "## kitch_sq:"
   ]
  },
  {
   "cell_type": "code",
   "execution_count": 12,
   "metadata": {
    "collapsed": true
   },
   "outputs": [],
   "source": [
    "# kitch_sq > full_sq & kitch_sq > 100 -> NA\n",
    "train.loc[(train['kitch_sq'] > train['full_sq']) & (train['kitch_sq'] > 100), 'kitch_sq'] = np.nan\n",
    "test.loc[(test['kitch_sq'] > test['full_sq']) & (test['kitch_sq'] > 100), 'kitch_sq'] = np.nan"
   ]
  },
  {
   "cell_type": "markdown",
   "metadata": {},
   "source": [
    "## state:"
   ]
  },
  {
   "cell_type": "code",
   "execution_count": 13,
   "metadata": {
    "collapsed": true
   },
   "outputs": [],
   "source": [
    "## 33 -> 3\n",
    "train.loc[train['state'] == 33, 'state'] = 3\n",
    "test.loc[test['state'] == 33, 'state'] = 3"
   ]
  },
  {
   "cell_type": "markdown",
   "metadata": {},
   "source": [
    "# Merging"
   ]
  },
  {
   "cell_type": "markdown",
   "metadata": {},
   "source": [
    "### Merge cleaned datasets with raw datasets"
   ]
  },
  {
   "cell_type": "markdown",
   "metadata": {},
   "source": [
    "Merging the datasets (raw and cleaned):"
   ]
  },
  {
   "cell_type": "code",
   "execution_count": 14,
   "metadata": {
    "collapsed": true
   },
   "outputs": [],
   "source": [
    "train_raw_small = train_raw.ix[:, train_raw.columns.difference(property_features)]\n",
    "\n",
    "property_features_test = ['timestamp', 'full_sq', 'life_sq', 'floor', \n",
    "                     'max_floor', 'material', 'build_year', 'num_room',\n",
    "                     'kitch_sq', 'state', 'product_type', 'sub_area']\n",
    "test_raw_small = test_raw.ix[:, test_raw.columns.difference(property_features_test)]"
   ]
  },
  {
   "cell_type": "code",
   "execution_count": 15,
   "metadata": {
    "collapsed": true
   },
   "outputs": [],
   "source": [
    "merged_df_train = pd.concat([train, train_raw_small], axis=1)\n",
    "merged_df_test = pd.concat([test, test_raw_small], axis=1)"
   ]
  },
  {
   "cell_type": "code",
   "execution_count": 16,
   "metadata": {
    "collapsed": true
   },
   "outputs": [],
   "source": [
    "# saving the datasets to csvs\n",
    "merged_df_train.to_csv('train_cleaned.csv')\n",
    "merged_df_test.to_csv('test_cleaned.csv')"
   ]
  },
  {
   "cell_type": "markdown",
   "metadata": {},
   "source": [
    "### Merge cleaned datasets with macro"
   ]
  },
  {
   "cell_type": "markdown",
   "metadata": {
    "collapsed": true
   },
   "source": [
    "Merging the newly created dataset with macro (for train dataset):"
   ]
  },
  {
   "cell_type": "code",
   "execution_count": 17,
   "metadata": {
    "collapsed": true
   },
   "outputs": [],
   "source": [
    "type(merged_df_train.timestamp.iloc[0])\n",
    "type(macro.timestamp.iloc[0])\n",
    "\n",
    "# convert merged_df_train timestamp to string:\n",
    "merged_df_train['timestamp'] = merged_df_train.timestamp.map(lambda x: str(x)[:10])"
   ]
  },
  {
   "cell_type": "code",
   "execution_count": 18,
   "metadata": {},
   "outputs": [
    {
     "name": "stdout",
     "output_type": "stream",
     "text": [
      "<type 'str'>\n",
      "<type 'str'>\n"
     ]
    }
   ],
   "source": [
    "print type(merged_df_train.timestamp.iloc[0])\n",
    "print type(macro.timestamp.iloc[0])"
   ]
  },
  {
   "cell_type": "code",
   "execution_count": 19,
   "metadata": {
    "collapsed": true
   },
   "outputs": [],
   "source": [
    "# make id as a column. If we keep it as an index, it gets dropped when we merge\n",
    "merged_df_train['id'] = merged_df_train.index\n",
    "merged_df_test['id'] = merged_df_test.index"
   ]
  },
  {
   "cell_type": "code",
   "execution_count": 20,
   "metadata": {
    "collapsed": true
   },
   "outputs": [],
   "source": [
    "pd_full_train = pd.merge(merged_df_train, macro, on = 'timestamp', how='left')\n",
    "pd_full_test = pd.merge(merged_df_test, macro, on = 'timestamp', how='left')"
   ]
  },
  {
   "cell_type": "markdown",
   "metadata": {},
   "source": [
    "# Missing Values"
   ]
  },
  {
   "cell_type": "markdown",
   "metadata": {},
   "source": [
    "### Looking at missing values (after a little bit of cleaning)"
   ]
  },
  {
   "cell_type": "code",
   "execution_count": null,
   "metadata": {},
   "outputs": [
    {
     "data": {
      "image/png": "[encoded data removed]",
      "text/plain": [
       "<matplotlib.figure.Figure at 0x1033169d0>"
      ]
     },
     "metadata": {},
     "output_type": "display_data"
    }
   ],
   "source": [
    "missing_df = pd_full_train.isnull().sum(axis=0).reset_index()\n",
    "missing_df.columns = ['column_name', 'missing_count']\n",
    "missing_df = missing_df.ix[missing_df['missing_count']>0]\n",
    "ind = np.arange(missing_df.shape[0])\n",
    "width = 0.9\n",
    "fig, ax = plt.subplots(figsize=(12,18))\n",
    "rects = ax.barh(ind, missing_df.missing_count.values, color='steelblue')\n",
    "ax.set_yticks(ind)\n",
    "ax.set_yticklabels(missing_df.column_name.values, rotation='horizontal')\n",
    "ax.set_xlabel(\"Count of missing values\")\n",
    "ax.set_title(\"What is the number of missing values in each column?\", weight = 'bold', size = 18)\n",
    "ax.set_axis_bgcolor('white')\n",
    "plt.show()"
   ]
  },
  {
   "cell_type": "markdown",
   "metadata": {},
   "source": [
    "# Important Variables"
   ]
  },
  {
   "cell_type": "markdown",
   "metadata": {},
   "source": [
    "### Doing feature selection using RF and XG boost. \n",
    "We will use EDA to refine the process of selecting our features."
   ]
  },
  {
   "cell_type": "markdown",
   "metadata": {},
   "source": [
    "#### Using XGboost"
   ]
  },
  {
   "cell_type": "code",
   "execution_count": null,
   "metadata": {},
   "outputs": [],
   "source": [
    "for f in pd_full_train.columns:\n",
    "    if pd_full_train[f].dtype=='object':\n",
    "        lbl = preprocessing.LabelEncoder()\n",
    "        lbl.fit(list(pd_full_train[f].values)) \n",
    "        pd_full_train[f] = lbl.transform(list(pd_full_train[f].values))\n",
    "        \n",
    "train_y = pd_full_train.price_doc.values\n",
    "train_X = pd_full_train.drop([\"timestamp\", \"price_doc\"], axis=1)\n",
    "\n",
    "xgb_params = {\n",
    "    'eta': 0.05,\n",
    "    'max_depth': 8,\n",
    "    'subsample': 0.7,\n",
    "    'colsample_bytree': 0.7,\n",
    "    'objective': 'reg:linear',\n",
    "    'eval_metric': 'rmse',\n",
    "    'silent': 1\n",
    "}\n",
    "dtrain = xgb.DMatrix(train_X, train_y, feature_names=train_X.columns.values)\n",
    "model = xgb.train(dict(xgb_params, silent=0), dtrain, num_boost_round=100)\n",
    "\n",
    "# plot the important features #\n",
    "fig, ax = plt.subplots(figsize=(12,18))\n",
    "xgb.plot_importance(model, max_num_features=50, height=0.8, ax=ax)\n",
    "ax.set_axis_bgcolor('white')\n",
    "plt.show()"
   ]
  },
  {
   "cell_type": "markdown",
   "metadata": {},
   "source": [
    "#### Using Random Forest"
   ]
  },
  {
   "cell_type": "code",
   "execution_count": null,
   "metadata": {
    "collapsed": true
   },
   "outputs": [],
   "source": [
    "from sklearn.ensemble import RandomForestRegressor\n",
    "from sklearn.preprocessing import LabelEncoder\n",
    "X_train = train_raw.drop(labels=['timestamp', 'incineration_raion'], axis=1).dropna()\n",
    "y_train = X_train['price_doc']\n",
    "X_train.drop('price_doc', axis=1, inplace=True)\n",
    "for f in X_train.columns:\n",
    "    if X_train[f].dtype == 'object':\n",
    "        lbl = LabelEncoder()\n",
    "        lbl.fit(X_train[f])\n",
    "        X_train[f] = lbl.transform(X_train[f])\n",
    "rf = RandomForestRegressor(random_state=0)\n",
    "rf = rf.fit(X_train, y_train)"
   ]
  },
  {
   "cell_type": "code",
   "execution_count": null,
   "metadata": {},
   "outputs": [],
   "source": [
    "fi = list(zip(X_train.columns, rf.feature_importances_))\n",
    "print('## rf variable importance')\n",
    "d = ['## %-40s%s' % (i) for i in fi[:20]]\n",
    "d"
   ]
  },
  {
   "cell_type": "markdown",
   "metadata": {},
   "source": [
    "# Feature Selection"
   ]
  },
  {
   "cell_type": "markdown",
   "metadata": {},
   "source": [
    "#### Now that we have a good understanding of the important variables, we'll do a quick EDA to refine our feature selection process."
   ]
  },
  {
   "cell_type": "code",
   "execution_count": null,
   "metadata": {
    "collapsed": true
   },
   "outputs": [],
   "source": [
    "# truncate the extreme values in price_doc #\n",
    "ulimit = np.percentile(pd_full_train.price_doc.values, 99)\n",
    "llimit = np.percentile(pd_full_train.price_doc.values, 1)\n",
    "pd_full_train['price_doc'].ix[pd_full_train['price_doc']>ulimit] = ulimit\n",
    "pd_full_train['price_doc'].ix[pd_full_train['price_doc']<llimit] = llimit"
   ]
  },
  {
   "cell_type": "markdown",
   "metadata": {},
   "source": [
    "Convert categorical variables into numerical variables by label encoding."
   ]
  },
  {
   "cell_type": "code",
   "execution_count": null,
   "metadata": {
    "collapsed": true
   },
   "outputs": [],
   "source": [
    "for f in pd_full_train.columns:\n",
    "    if pd_full_train[f].dtype=='object':\n",
    "        print(f)\n",
    "        lbl = preprocessing.LabelEncoder()\n",
    "        lbl.fit(list(pd_full_train[f].values.astype('str')) + list(pd_full_test[f].values.astype('str')))\n",
    "        pd_full_train[f] = lbl.transform(list(pd_full_train[f].values.astype('str')))\n",
    "        pd_full_test[f] = lbl.transform(list(pd_full_test[f].values.astype('str')))"
   ]
  },
  {
   "cell_type": "markdown",
   "metadata": {},
   "source": [
    "Create dataset with only the variables from XG Boost algorithm"
   ]
  },
  {
   "cell_type": "code",
   "execution_count": null,
   "metadata": {},
   "outputs": [],
   "source": [
    "xgb_features = [\"full_sq\", \"life_sq\", \"floor\", \"build_year\", \"max_floor\", \"kitch_sq\",\n",
    "           \"state\", \"additional_education_km\", \"public_transport_station_km\", \n",
    "           \"num_room\", \"ID_metro\", \"big_church_km\", \"sub_area\",\n",
    "           \"preschool_km\", \"cafe_avg_price_500\", \"big_road2_km\", \"green_zone_km\",\n",
    "          \"kindergarten_km\", \"catering_km\", \"big_road1_km\", \n",
    "           \"public_healthcare_km\", \"hospice_morgue_km\", \"swim_pool_km\", \"material\", \n",
    "           \"green_part_1000\", \"railroad_km\", \"industrial_km\", \"cemetery_km\",\n",
    "           \"fitness_km\", \"theater_km\", \"radiation_km\", \"id\", \"price_doc\"]\n",
    "\n",
    "xgb_features_noprice = [\"full_sq\", \"life_sq\", \"floor\", \"build_year\", \"max_floor\", \"kitch_sq\",\n",
    "           \"state\", \"additional_education_km\", \"public_transport_station_km\", \n",
    "           \"num_room\", \"ID_metro\", \"big_church_km\", \"sub_area\",\n",
    "           \"preschool_km\", \"cafe_avg_price_500\", \"big_road2_km\", \"green_zone_km\",\n",
    "          \"kindergarten_km\", \"catering_km\", \"big_road1_km\", \n",
    "           \"public_healthcare_km\", \"hospice_morgue_km\", \"swim_pool_km\", \"material\", \n",
    "           \"green_part_1000\", \"railroad_km\", \"industrial_km\", \"cemetery_km\",\n",
    "           \"fitness_km\", \"theater_km\", \"radiation_km\", \"id\"]"
   ]
  },
  {
   "cell_type": "code",
   "execution_count": null,
   "metadata": {
    "collapsed": true
   },
   "outputs": [],
   "source": [
    "train_reduced_xgboost = pd_full_train[xgb_features]\n",
    "test_reduced_xgboost = pd_full_test[xgb_features_noprice]"
   ]
  },
  {
   "cell_type": "markdown",
   "metadata": {},
   "source": [
    "#### Checking proportion of null values in reduced train and test datasets:"
   ]
  },
  {
   "cell_type": "code",
   "execution_count": null,
   "metadata": {
    "collapsed": true
   },
   "outputs": [],
   "source": [
    "null_values_train = train_reduced_xgboost.isnull().sum(axis=0) / len(train_reduced_xgboost) * 100\n",
    "null_values_train[null_values_train > 0]"
   ]
  },
  {
   "cell_type": "code",
   "execution_count": null,
   "metadata": {
    "collapsed": true
   },
   "outputs": [],
   "source": [
    "null_values_test = test_reduced_xgboost.isnull().sum(axis=0) / len(test_reduced_xgboost) * 100\n",
    "null_values_test[null_values_test > 0]"
   ]
  },
  {
   "cell_type": "markdown",
   "metadata": {},
   "source": [
    "The **variables that are worth looking at for imputation** are: `life_sq`, `build_year`, `max_floor`, `kitch_sq`, `state`, `num_room`, `cafe_avg_price_500` and `material`.\n",
    "\n",
    "For the 2 other variable with a low number of null values in both the test and train datasets (i.e. `full_sq` and `floor`), we will use the median (`full_sq`) and mode (`floor`)."
   ]
  },
  {
   "cell_type": "markdown",
   "metadata": {},
   "source": [
    "### life_sq"
   ]
  },
  {
   "cell_type": "markdown",
   "metadata": {},
   "source": [
    "We may be able to infer the values for `life_sq` from `full_sq` or **dismiss these values altogether if they are correlated to `full_sq`.**"
   ]
  },
  {
   "cell_type": "code",
   "execution_count": null,
   "metadata": {
    "collapsed": true
   },
   "outputs": [],
   "source": [
    "fig, ax = plt.subplots(figsize=(12,6))\n",
    "ax.set_axis_bgcolor('white')\n",
    "plt.scatter(x=train_reduced_xgboost.drop(ind)['full_sq'], y=train_reduced_xgboost.drop(ind)['life_sq'], color=color[2], alpha=0.5)\n",
    "ax.set(xlabel='Full_Sq', ylabel='Life_Sq')\n",
    "ax.set_title('Is life_sq correlated with full_sq?',fontsize=16, weight='bold')"
   ]
  },
  {
   "cell_type": "code",
   "execution_count": null,
   "metadata": {
    "collapsed": true
   },
   "outputs": [],
   "source": [
    "import statsmodels.api as sm\n",
    "from statsmodels.formula.api import ols\n",
    " \n",
    "mod = ols('full_sq ~ life_sq',\n",
    "                data=train_reduced_xgboost).fit()\n",
    "                \n",
    "aov_table = sm.stats.anova_lm(mod, typ=2)\n",
    "print aov_table"
   ]
  },
  {
   "cell_type": "code",
   "execution_count": null,
   "metadata": {
    "collapsed": true
   },
   "outputs": [],
   "source": [
    "# eta squared. It is calculated the same way as R squared.\n",
    "esq_sm = aov_table['sum_sq'][0]/(aov_table['sum_sq'][0]+aov_table['sum_sq'][1])\n",
    "esq_sm # out of the total variation in life_sq, 72% can be attributed to a full_sq."
   ]
  },
  {
   "cell_type": "markdown",
   "metadata": {},
   "source": [
    "##### We won't use life_sq as it is highly correlated with full_sq. No need to impute missing values."
   ]
  },
  {
   "cell_type": "markdown",
   "metadata": {},
   "source": [
    "### build_year"
   ]
  },
  {
   "cell_type": "markdown",
   "metadata": {},
   "source": [
    "Is `build_year` correlated with another variable? It could be correlated to `state`. However `state` has a lot of missing variables so if there are correlated, we may prefer to keep `build_year` and drop `state`.\n",
    "\n",
    "##### Checking the correlation between `build_year` and `state`"
   ]
  },
  {
   "cell_type": "code",
   "execution_count": null,
   "metadata": {
    "collapsed": true
   },
   "outputs": [],
   "source": [
    "g = sns.FacetGrid(train_reduced_xgboost, col=\"state\", col_wrap=2, size=4.5) \n",
    "g.set(axis_bgcolor='white')\n",
    "g.fig.suptitle('Build Year by State', size = 16, weight = 'bold')\n",
    "g.map(sns.regplot, \"build_year\", \"price_doc\") "
   ]
  },
  {
   "cell_type": "markdown",
   "metadata": {},
   "source": [
    "It is hard to see a relationship between `state` and `build_year`. There does not seem to be a relationship between neither `build_year` and `price` nor `build_year` and `state`.\n",
    "\n",
    "**We can't infer build_year from another variable and will need to find a way to impute it.**"
   ]
  },
  {
   "cell_type": "markdown",
   "metadata": {},
   "source": [
    "### max_floor"
   ]
  },
  {
   "cell_type": "markdown",
   "metadata": {},
   "source": [
    "Can we infer max_floor from another variable? E.g. **is max_floor correlated with build_year?**"
   ]
  },
  {
   "cell_type": "code",
   "execution_count": null,
   "metadata": {
    "collapsed": true
   },
   "outputs": [],
   "source": [
    "grouped_df = train_reduced_xgboost.groupby('build_year')['max_floor'].aggregate(np.mean).reset_index()"
   ]
  },
  {
   "cell_type": "code",
   "execution_count": null,
   "metadata": {
    "collapsed": true
   },
   "outputs": [],
   "source": [
    "import matplotlib.ticker as ticker\n",
    "from matplotlib.ticker import *\n",
    "\n",
    "fig, ax = plt.subplots(figsize=(14,6))\n",
    "ax.set_axis_bgcolor('white')\n",
    "sns.barplot(grouped_df['build_year'], grouped_df['max_floor'], alpha=0.8, color=color[2])\n",
    "plt.ylabel('Max_Floor (Mean)', fontsize=12)\n",
    "plt.xlabel('Build_Year', fontsize=12)\n",
    "ax.set_title(\"Is the number of floors increasing as years pass by?\",fontsize=16, weight='bold')\n",
    "# plt.xticks(rotation='vertical')\n",
    "ax.set_xticks([])\n",
    "plt.show()"
   ]
  },
  {
   "cell_type": "markdown",
   "metadata": {},
   "source": [
    "**The number of floors increase has the years pass by**. Taking a closer look at the correlation between `build_year` and `max_floor`:"
   ]
  },
  {
   "cell_type": "code",
   "execution_count": null,
   "metadata": {
    "collapsed": true
   },
   "outputs": [],
   "source": [
    "import statsmodels.api as sm\n",
    "from statsmodels.formula.api import ols\n",
    " \n",
    "mod = ols('build_year ~ max_floor',\n",
    "                data=train_reduced_xgboost).fit()\n",
    "                \n",
    "aov_table_2 = sm.stats.anova_lm(mod, typ=2)\n",
    "print aov_table_2"
   ]
  },
  {
   "cell_type": "code",
   "execution_count": null,
   "metadata": {
    "collapsed": true
   },
   "outputs": [],
   "source": [
    "# eta squared. It is calculated the same way as R squared.\n",
    "esq_sm = aov_table_2['sum_sq'][0]/(aov_table_2['sum_sq'][0]+aov_table_2['sum_sq'][1])\n",
    "esq_sm # out of the total variation in max_floor, 42% can be attributed to the build year."
   ]
  },
  {
   "cell_type": "markdown",
   "metadata": {},
   "source": [
    "**The eta squared is too low between `max_floor` and `build_year`**. We will keep both variables and will need to impute `max_floor`."
   ]
  },
  {
   "cell_type": "markdown",
   "metadata": {},
   "source": [
    "### kitch_sq"
   ]
  },
  {
   "cell_type": "markdown",
   "metadata": {},
   "source": [
    "Is there a correlation between kitch_sq and full_sq?"
   ]
  },
  {
   "cell_type": "code",
   "execution_count": null,
   "metadata": {
    "collapsed": true
   },
   "outputs": [],
   "source": [
    "fig, ax = plt.subplots(figsize=(12,6))\n",
    "ax.set_axis_bgcolor('white')\n",
    "plt.scatter(x=train_reduced_xgboost.drop(ind)['full_sq'], y=train_reduced_xgboost.drop(ind)['kitch_sq'], color=color[2], alpha=0.5)\n",
    "ax.set(xlabel='Full_Sq', ylabel='Kitch_Sq')\n",
    "ax.set_title(\"Is the kitch_sq correlated to full_sq?\",fontsize=16, weight='bold')"
   ]
  },
  {
   "cell_type": "code",
   "execution_count": null,
   "metadata": {
    "collapsed": true
   },
   "outputs": [],
   "source": [
    "import statsmodels.api as sm\n",
    "from statsmodels.formula.api import ols\n",
    " \n",
    "mod = ols('kitch_sq ~ full_sq',\n",
    "                data=train_reduced_xgboost).fit()\n",
    "                \n",
    "aov_table_2 = sm.stats.anova_lm(mod, typ=2)\n",
    "print aov_table_2"
   ]
  },
  {
   "cell_type": "markdown",
   "metadata": {},
   "source": [
    "**There is no clear correlation between kitch_sq and full_sq.** The p-value is too high.\n",
    "We can't dismiss `kitch_sq` in our modeling and will need to impute it."
   ]
  },
  {
   "cell_type": "markdown",
   "metadata": {},
   "source": [
    "### state"
   ]
  },
  {
   "cell_type": "markdown",
   "metadata": {},
   "source": [
    "We already saw that there was no relationship between `state` and `build_year`. **Is there a relationship between `state` and `material`?**"
   ]
  },
  {
   "cell_type": "code",
   "execution_count": null,
   "metadata": {
    "collapsed": true
   },
   "outputs": [],
   "source": [
    "g = sns.FacetGrid(train_reduced_xgboost, col=\"material\") \n",
    "g.set(axis_bgcolor='white')\n",
    "# g.fig.suptitle('State by Material', size = 16, weight = 'bold')\n",
    "bins = np.linspace(1, 4)\n",
    "g.map(plt.hist, \"state\", color=\"steelblue\", bins=bins, lw=0, width = 0.3)"
   ]
  },
  {
   "cell_type": "markdown",
   "metadata": {},
   "source": [
    "**`Material` is not a good predictor of `state`**. We will need to choose a different way to impute `state`."
   ]
  },
  {
   "cell_type": "markdown",
   "metadata": {},
   "source": [
    "### num_room"
   ]
  },
  {
   "cell_type": "markdown",
   "metadata": {},
   "source": [
    "Looking for a possible correlation between `num_room` and `full_sq`:"
   ]
  },
  {
   "cell_type": "code",
   "execution_count": null,
   "metadata": {
    "collapsed": true
   },
   "outputs": [],
   "source": [
    "fig, ax = plt.subplots(figsize=(12,6))\n",
    "ax.set_axis_bgcolor('white')\n",
    "plt.scatter(x=train_reduced_xgboost.drop(ind)['num_room'], y=train_reduced_xgboost.drop(ind)['full_sq'], \n",
    "            color=color[2], alpha=0.5)\n",
    "ax.set(xlabel='Num_Room', ylabel='Full_Sq')\n",
    "ax.set_title('Is num_room correlated with full_sq?',fontsize=16, weight='bold')"
   ]
  },
  {
   "cell_type": "code",
   "execution_count": null,
   "metadata": {
    "collapsed": true
   },
   "outputs": [],
   "source": [
    "import statsmodels.api as sm\n",
    "from statsmodels.formula.api import ols\n",
    " \n",
    "mod = ols('full_sq ~ num_room',\n",
    "                data=train_reduced_xgboost).fit()\n",
    "                \n",
    "aov_table_3 = sm.stats.anova_lm(mod, typ=2)\n",
    "print aov_table_3"
   ]
  },
  {
   "cell_type": "code",
   "execution_count": null,
   "metadata": {
    "collapsed": true
   },
   "outputs": [],
   "source": [
    "# eta squared. It is calculated the same way as R squared.\n",
    "esq_sm = aov_table_3['sum_sq'][0]/(aov_table_3['sum_sq'][0]+aov_table_3['sum_sq'][1])\n",
    "esq_sm # out of the total variation in num_room, 57% can be attributed to full_sq."
   ]
  },
  {
   "cell_type": "markdown",
   "metadata": {},
   "source": [
    "The p-value is low and eta squared relatively high so we can assume a correlation between `full_sq` and `num_room`.\n",
    "To keep our model as simple as possible, **we will drop `num_room`. The number of missing values is high for `num_room` and given that it is correlated to `full_sq`, it will be more accurate to drop it rather than impute it**."
   ]
  },
  {
   "cell_type": "markdown",
   "metadata": {},
   "source": [
    "### cafe_avg_price_500"
   ]
  },
  {
   "cell_type": "markdown",
   "metadata": {},
   "source": [
    "The variable `cafe_avg_price_500` looks at the cafes and restaurant's average bill within a 500 meters radius. "
   ]
  },
  {
   "cell_type": "code",
   "execution_count": null,
   "metadata": {
    "collapsed": true
   },
   "outputs": [],
   "source": [
    "train_reduced_xgboost['cafe_avg_price_500'].head(10)"
   ]
  },
  {
   "cell_type": "markdown",
   "metadata": {},
   "source": [
    "Looking at a possible correlation between the `cafe_avg_price_500` and `price_doc`"
   ]
  },
  {
   "cell_type": "code",
   "execution_count": null,
   "metadata": {
    "collapsed": true
   },
   "outputs": [],
   "source": [
    "fig, ax = plt.subplots(figsize=(12,6))\n",
    "ax.set_axis_bgcolor('white')\n",
    "plt.scatter(x=train_reduced_xgboost.drop(ind)['cafe_avg_price_500'], y=train_reduced_xgboost.drop(ind)['price_doc'], \n",
    "            color=color[2], alpha=0.5)\n",
    "ax.set(xlabel='Cafe_avg_price_500', ylabel='Price')\n",
    "ax.set_title(\"Is the average restaurants' bill correlated to the housing prices?\",fontsize=16, weight='bold')"
   ]
  },
  {
   "cell_type": "markdown",
   "metadata": {},
   "source": [
    "**No correlation between average restaurants' bill and housing prices**. \n",
    "There may be a possible correlation with `sub_area`. However, the correlation is unclear and imputing `cafe_avg_price_500` based on `sub_area` may be more prone to errors than using random imputation (which we will use instead)."
   ]
  },
  {
   "cell_type": "markdown",
   "metadata": {},
   "source": [
    "### material"
   ]
  },
  {
   "cell_type": "markdown",
   "metadata": {},
   "source": [
    "We already saw that material did not correlate with state. It does not correlate with any features related to the house as shown in the correlation plot below so we'll impute it."
   ]
  },
  {
   "cell_type": "code",
   "execution_count": null,
   "metadata": {
    "collapsed": true
   },
   "outputs": [],
   "source": [
    "property_features = ['timestamp', 'full_sq', 'life_sq', 'floor', \n",
    "                     'max_floor', 'material', 'build_year', 'num_room',\n",
    "                     'kitch_sq', 'state', 'product_type', 'sub_area', \n",
    "                     'price_doc']\n",
    "\n",
    "corrmat = pd_full_train[property_features].corr()\n",
    "f, ax = plt.subplots(figsize=(10, 7))\n",
    "plt.xticks(rotation='90')\n",
    "sns.heatmap(corrmat, square=True, linewidths=.5, annot=True)"
   ]
  },
  {
   "cell_type": "markdown",
   "metadata": {},
   "source": [
    "### school"
   ]
  },
  {
   "cell_type": "markdown",
   "metadata": {},
   "source": [
    "The variables related to `school` were not part of the important variables from the xgboost model. However the variable selection performed by random forest included `children_preschool`, `preschool_quota`, `preschool_education_centers_raion`, `children_school`, `school_quota` as important variables.\n",
    "\n",
    "We will include them in our model for now and play with them.\n",
    "\n",
    "##### Looking at the correlation plot for all the school variables to decide the ones to pick:"
   ]
  },
  {
   "cell_type": "code",
   "execution_count": null,
   "metadata": {
    "collapsed": true
   },
   "outputs": [],
   "source": [
    "#school features\n",
    "school_features = ['children_preschool', 'preschool_quota', 'preschool_education_centers_raion', 'children_school', \n",
    "                'school_quota', 'school_education_centers_raion', 'school_education_centers_top_20_raion', \n",
    "                'university_top_20_raion', 'additional_education_raion', 'additional_education_km', 'university_km', 'price_doc']\n",
    "\n",
    "corrmat = pd_full_train[school_features].corr()\n",
    "f, ax = plt.subplots(figsize=(10, 7))\n",
    "plt.xticks(rotation='90')\n",
    "sns.heatmap(corrmat, square=True, linewidths=.5, annot=True)"
   ]
  },
  {
   "cell_type": "markdown",
   "metadata": {},
   "source": [
    "A few school variables are correlated (i.e. `children_preschool`, `preschool_quota`, `preschool_education_centers_raion`, `children_school`, `school_quota`, `school_education_centers_raion`). None of them seem to be higher correlated to `price_doc` than any other. We will look at the number of missing values and **pick the one that have the least number of missing values.**"
   ]
  },
  {
   "cell_type": "code",
   "execution_count": null,
   "metadata": {
    "collapsed": true
   },
   "outputs": [],
   "source": [
    "school_list = ['children_preschool', 'preschool_quota', \n",
    "              'preschool_education_centers_raion', \n",
    "              'children_school', 'school_quota', \n",
    "              'school_education_centers_raion']\n",
    "school_df = pd_full_train[school_list]"
   ]
  },
  {
   "cell_type": "code",
   "execution_count": null,
   "metadata": {
    "collapsed": true
   },
   "outputs": [],
   "source": [
    "null_values_school = school_df.isnull().sum(axis=0) / len(school_df) * 100\n",
    "null_values_school"
   ]
  },
  {
   "cell_type": "markdown",
   "metadata": {},
   "source": [
    "Only the `preschool_quote` and `school_quota` have missing values. **We will pick `children_preschool` as an indicator of all the school variables**: it is one of the school features that was selected by the random forest algorithm and it has no missing values."
   ]
  },
  {
   "cell_type": "markdown",
   "metadata": {},
   "source": [
    "## Feature Selection Summary"
   ]
  },
  {
   "cell_type": "markdown",
   "metadata": {},
   "source": [
    "Based on the analysis above, we will perfom the following transformation to the features we selected:\n",
    "- **DROP**: `life_sq`, `num_room`\n",
    "- **ADD**: `children_preschool`\n",
    "- **IMPUTE**: `build_year`, `max_floor`, `state`, `kitch_sq`, `cafe_avg_price_500`, `material`\n",
    "- **KEEP**: all the remaining features"
   ]
  },
  {
   "cell_type": "code",
   "execution_count": null,
   "metadata": {
    "collapsed": true
   },
   "outputs": [],
   "source": [
    "# updating the xgb feature list by adding children_preschool and dropping life_sq and num_room\n",
    "xgb_features.append('children_preschool') \n",
    "xgb_features.remove('life_sq')\n",
    "xgb_features.remove('num_room')\n",
    "\n",
    "xgb_features_noprice.append('children_preschool') \n",
    "xgb_features_noprice.remove('life_sq')\n",
    "xgb_features_noprice.remove('num_room')"
   ]
  },
  {
   "cell_type": "code",
   "execution_count": null,
   "metadata": {
    "collapsed": true
   },
   "outputs": [],
   "source": [
    "train_reduced_xgboost = pd_full_train[xgb_features]\n",
    "test_reduced_xgboost = pd_full_test[xgb_features_noprice]"
   ]
  },
  {
   "cell_type": "markdown",
   "metadata": {},
   "source": [
    "# Adding Macro Data"
   ]
  },
  {
   "cell_type": "code",
   "execution_count": null,
   "metadata": {
    "collapsed": true
   },
   "outputs": [],
   "source": [
    "# adding important macro data to the list of features\n",
    "xgb_features.extend(['usdrub', 'cpi','mortgage_rate', 'micex'])"
   ]
  },
  {
   "cell_type": "markdown",
   "metadata": {},
   "source": [
    "# Imputating"
   ]
  },
  {
   "cell_type": "markdown",
   "metadata": {},
   "source": [
    "#### We have 32 features that we selected:\n",
    "We will procede to cleaning the missing data as follow:\n",
    "- remove observations that have more than 10 missing values\n",
    "- use random to impute missing values for now. *We will adjust our imputation method when fine tuning the model (i.e. median, mode, knn, or let the model do the work)*"
   ]
  },
  {
   "cell_type": "code",
   "execution_count": 53,
   "metadata": {},
   "outputs": [
    {
     "data": {
      "text/plain": [
       "32"
      ]
     },
     "execution_count": 53,
     "metadata": {},
     "output_type": "execute_result"
    }
   ],
   "source": [
    "len(train_reduced_xgboost.columns)"
   ]
  },
  {
   "cell_type": "markdown",
   "metadata": {},
   "source": [
    "### Remove observations with more than 10 missing values"
   ]
  },
  {
   "cell_type": "code",
   "execution_count": 54,
   "metadata": {},
   "outputs": [
    {
     "data": {
      "text/plain": [
       "7"
      ]
     },
     "execution_count": 54,
     "metadata": {},
     "output_type": "execute_result"
    }
   ],
   "source": [
    "max(train_reduced_xgboost.isnull().sum(axis=1)) # look at max number of missing values per observation"
   ]
  },
  {
   "cell_type": "markdown",
   "metadata": {},
   "source": [
    "The maximum number of missing values per observation is 7 so we won't remove any observations."
   ]
  },
  {
   "cell_type": "markdown",
   "metadata": {},
   "source": [
    "### Imputing missing values"
   ]
  },
  {
   "cell_type": "markdown",
   "metadata": {},
   "source": [
    "##### Use median values from sub-areas"
   ]
  },
  {
   "cell_type": "markdown",
   "metadata": {},
   "source": [
    "Grouping by sub-area and using the median from each sub-area to impute values from same sub-area."
   ]
  },
  {
   "cell_type": "code",
   "execution_count": 55,
   "metadata": {
    "collapsed": true
   },
   "outputs": [],
   "source": [
    "train_reduced_xgboost = train_reduced_xgboost.groupby(\"sub_area\").transform(lambda x: x.fillna(x.median()))\n",
    "test_reduced_xgboost = test_reduced_xgboost.groupby(\"sub_area\").transform(lambda x: x.fillna(x.median()))"
   ]
  },
  {
   "cell_type": "code",
   "execution_count": 65,
   "metadata": {},
   "outputs": [
    {
     "data": {
      "text/plain": [
       "build_year              1\n",
       "cafe_avg_price_500    511\n",
       "dtype: int64"
      ]
     },
     "execution_count": 65,
     "metadata": {},
     "output_type": "execute_result"
    }
   ],
   "source": [
    "# train_reduced_xgboost does not have missing values left\n",
    "# test_reduced_xgboost still has missing values (511 in cafe_avg_price_500 and 1 in build_year).\n",
    "# This is because some sub_areas only have 1 observation and if the observation has NAs in these columns, then we can't\n",
    "# impute the missing values\n",
    "null = test_reduced_xgboost.isnull().sum(axis=0)\n",
    "null[null > 0]"
   ]
  },
  {
   "cell_type": "markdown",
   "metadata": {},
   "source": [
    "For the missing values that are left in the test dataset, we'll impute them with the median (without grouping by sub-areas)"
   ]
  },
  {
   "cell_type": "code",
   "execution_count": 69,
   "metadata": {
    "collapsed": true
   },
   "outputs": [],
   "source": [
    "test_reduced_xgboost = test_reduced_xgboost.transform(lambda x: x.fillna(x.median()))"
   ]
  },
  {
   "cell_type": "markdown",
   "metadata": {},
   "source": [
    "# Modeling & Transforming"
   ]
  },
  {
   "cell_type": "markdown",
   "metadata": {
    "collapsed": true
   },
   "source": [
    "Switching to R...."
   ]
  },
  {
   "cell_type": "code",
   "execution_count": null,
   "metadata": {
    "collapsed": true
   },
   "outputs": [],
   "source": [
    "# saving the datasets to csv\n",
    "train_reduced_xgboost.to_csv('train_reduced.csv')\n",
    "test_reduced_xgboost.to_csv('test_reduced.csv')"
   ]
  },
  {
   "cell_type": "markdown",
   "metadata": {},
   "source": [
    "### Linear Regression"
   ]
  },
  {
   "cell_type": "code",
   "execution_count": 76,
   "metadata": {},
   "outputs": [
    {
     "data": {
      "text/plain": [
       "full_sq                        float64\n",
       "floor                          float64\n",
       "build_year                     float64\n",
       "max_floor                      float64\n",
       "kitch_sq                       float64\n",
       "state                          float64\n",
       "additional_education_km        float64\n",
       "public_transport_station_km    float64\n",
       "ID_metro                         int64\n",
       "big_church_km                  float64\n",
       "preschool_km                   float64\n",
       "cafe_avg_price_500             float64\n",
       "big_road2_km                   float64\n",
       "green_zone_km                  float64\n",
       "kindergarten_km                float64\n",
       "catering_km                    float64\n",
       "big_road1_km                   float64\n",
       "public_healthcare_km           float64\n",
       "hospice_morgue_km              float64\n",
       "swim_pool_km                   float64\n",
       "material                       float64\n",
       "green_part_1000                float64\n",
       "railroad_km                    float64\n",
       "industrial_km                  float64\n",
       "cemetery_km                    float64\n",
       "fitness_km                     float64\n",
       "theater_km                     float64\n",
       "radiation_km                   float64\n",
       "id                               int64\n",
       "price_doc                      float64\n",
       "children_preschool               int64\n",
       "dtype: object"
      ]
     },
     "execution_count": 76,
     "metadata": {},
     "output_type": "execute_result"
    }
   ],
   "source": [
    "train_reduced_xgboost.dtypes"
   ]
  },
  {
   "cell_type": "code",
   "execution_count": null,
   "metadata": {
    "collapsed": true
   },
   "outputs": [],
   "source": [
    "\n"
   ]
  },
  {
   "cell_type": "code",
   "execution_count": null,
   "metadata": {
    "collapsed": true
   },
   "outputs": [],
   "source": [
    "prediction = pd.DataFrame(predictions, columns=['predictions']).to_csv('prediction.csv')"
   ]
  }
 ],
 "metadata": {
  "anaconda-cloud": {},
  "kernelspec": {
   "display_name": "Python 2",
   "language": "python",
   "name": "python2"
  },
  "language_info": {
   "codemirror_mode": {
    "name": "ipython",
    "version": 2
   },
   "file_extension": ".py",
   "mimetype": "text/x-python",
   "name": "python",
   "nbconvert_exporter": "python",
   "pygments_lexer": "ipython2",
   "version": "2.7.13"
  }
 },
 "nbformat": 4,
 "nbformat_minor": 1
}
