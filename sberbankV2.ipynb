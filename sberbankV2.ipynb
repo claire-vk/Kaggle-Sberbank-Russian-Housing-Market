{
 "cells": [
  {
   "cell_type": "markdown",
   "metadata": {},
   "source": [
    "# Sberbank Russian Housing Market"
   ]
  },
  {
   "cell_type": "code",
   "execution_count": 1,
   "metadata": {
    "scrolled": true
   },
   "outputs": [],
   "source": [
    "import pandas as pd\n",
    "from pandas.io.json import build_table_schema\n",
    "import matplotlib.pyplot as plt\n",
    "import matplotlib\n",
    "import seaborn as sns\n",
    "import missingno as msno\n",
    "import numpy as np\n",
    "import scipy as sp\n",
    "import os\n",
    "import xgboost as xgb\n",
    "import visualization as vis\n",
    "from pandas.plotting import scatter_matrix\n",
    "import warnings\n",
    "warnings.filterwarnings(\"ignore\")\n",
    "%matplotlib inline\n",
    "\n",
    "DIR_PATH = './'"
   ]
  },
  {
   "cell_type": "code",
   "execution_count": 2,
   "metadata": {},
   "outputs": [
    {
     "data": {
      "text/plain": [
       "['/usr/local/lib/python2.7/site-packages/pandas']"
      ]
     },
     "execution_count": 2,
     "metadata": {},
     "output_type": "execute_result"
    }
   ],
   "source": [
    "pd.__path__"
   ]
  },
  {
   "cell_type": "code",
   "execution_count": 3,
   "metadata": {
    "collapsed": true
   },
   "outputs": [],
   "source": [
    "## loading data as Pandas dataframes\n",
    "train_raw = pd.read_csv(os.path.join(DIR_PATH, 'train.csv'), \n",
    "                        header='infer', \n",
    "                        index_col='id',\n",
    "                        parse_dates=['timestamp'])\n",
    "test_raw = pd.read_csv(os.path.join(DIR_PATH, 'test.csv'), \n",
    "                       header='infer', \n",
    "                       index_col='id',\n",
    "                       parse_dates=['timestamp'])\n",
    "macro = pd.read_csv(os.path.join(DIR_PATH, 'macro.csv'), \n",
    "                    header='infer')"
   ]
  },
  {
   "cell_type": "markdown",
   "metadata": {},
   "source": [
    "### Data Understanding & Data Preparation"
   ]
  },
  {
   "cell_type": "code",
   "execution_count": 4,
   "metadata": {
    "collapsed": true
   },
   "outputs": [],
   "source": [
    "## data schema\n",
    "train_schema = pd.DataFrame(build_table_schema(train_raw)['fields'])\n",
    "macro_schema = pd.DataFrame(build_table_schema(macro)['fields'])"
   ]
  },
  {
   "cell_type": "code",
   "execution_count": 5,
   "metadata": {
    "collapsed": true
   },
   "outputs": [],
   "source": [
    "## start from property features first\n",
    "property_features = ['timestamp', 'full_sq', 'life_sq', 'floor', \n",
    "                     'max_floor', 'material', 'build_year', 'num_room',\n",
    "                     'kitch_sq', 'state', 'product_type', 'sub_area', \n",
    "                     'price_doc']\n",
    "\n",
    "train = train_raw[property_features]\n",
    "test = test_raw[property_features[:-1]]"
   ]
  },
  {
   "cell_type": "markdown",
   "metadata": {},
   "source": [
    "## Cleaning the property features"
   ]
  },
  {
   "cell_type": "markdown",
   "metadata": {},
   "source": [
    "## full_sq:"
   ]
  },
  {
   "cell_type": "code",
   "execution_count": 19,
   "metadata": {},
   "outputs": [],
   "source": [
    "# <10 -> NA\n",
    "train.loc[train['full_sq'] <10, 'full_sq'] = np.nan\n",
    "test.loc[test['full_sq'] <10, 'full_sq'] = np.nan\n",
    "\n",
    "# >300 -> NA\n",
    "train.loc[train['full_sq'] > 300, 'full_sq'] = np.nan\n",
    "test.loc[test['full_sq'] > 300, 'full_sq'] = np.nan"
   ]
  },
  {
   "cell_type": "markdown",
   "metadata": {},
   "source": [
    "## life_sq:"
   ]
  },
  {
   "cell_type": "code",
   "execution_count": 34,
   "metadata": {},
   "outputs": [],
   "source": [
    "# 0 or 1 -> NA\n",
    "train.loc[(train['life_sq'] == 0) | (train['life_sq'] == 1), 'life_sq'] = np.nan\n",
    "test.loc[(test['life_sq'] == 0) | (test['life_sq'] == 1), 'life_sq'] = np.nan\n",
    "\n",
    "# > 300 -> NA\n",
    "train.loc[train['life_sq'] > 300, 'life_sq'] = np.nan\n",
    "test.loc[test['life_sq'] > 300, 'life_sq'] = np.nan\n",
    "\n",
    "# full_sq < life_sq & life_sq > 100 -> NA\n",
    "train.loc[(train['full_sq'] < train['life_sq']) & (train['life_sq'] > 100), 'life_sq'] = np.nan\n",
    "test.loc[(test['full_sq'] < test['life_sq']) & (test['life_sq'] > 100), 'life_sq'] = np.nan"
   ]
  },
  {
   "cell_type": "markdown",
   "metadata": {},
   "source": [
    "## max_floor:"
   ]
  },
  {
   "cell_type": "code",
   "execution_count": 33,
   "metadata": {},
   "outputs": [],
   "source": [
    "# # 117 -> 17\n",
    "train.loc[train['max_floor'] == 117, 'max_floor'] = 17\n",
    "test.loc[test['max_floor'] == 117, 'max_floor'] = 17\n",
    "\n",
    "# floor > max_floor -> NA\n",
    "train.loc[train['floor'] > train['max_floor'], 'max_floor'] = np.nan\n",
    "test.loc[test['floor'] > test['max_floor'], 'max_floor'] = np.nan\n",
    "\n",
    "# >60 -> NA\n",
    "train.loc[train['max_floor'] > 60, 'max_floor'] = np.nan\n",
    "test.loc[test['max_floor'] > 60, 'max_floor'] = np.nan\n",
    "\n",
    "# 0 -> NA\n",
    "train.loc[train['max_floor'] == 60, 'max_floor'] = np.nan\n",
    "test.loc[test['max_floor'] == 60, 'max_floor'] = np.nan"
   ]
  },
  {
   "cell_type": "markdown",
   "metadata": {},
   "source": [
    "## material:"
   ]
  },
  {
   "cell_type": "code",
   "execution_count": 22,
   "metadata": {},
   "outputs": [],
   "source": [
    "# 3 -> NA\n",
    "col = 'material'\n",
    "train.loc[train[col] == 3, col] = np.nan\n",
    "test.loc[test[col] == 3, col] = np.nan"
   ]
  },
  {
   "cell_type": "markdown",
   "metadata": {},
   "source": [
    "## build_year:"
   ]
  },
  {
   "cell_type": "code",
   "execution_count": 23,
   "metadata": {
    "collapsed": true
   },
   "outputs": [],
   "source": [
    "# 20052009 -> 2009 \n",
    "train.loc[train['build_year'] == 20052009, 'build_year'] = 2009\n",
    "test.loc[test['build_year'] == 20052009, 'build_year'] = 2009\n",
    "\n",
    "#  4965 -> 1965\n",
    "train.loc[train['build_year'] == 4965, 'build_year'] = 1965\n",
    "test.loc[test['build_year'] == 4965, 'build_year'] = 1965\n",
    "\n",
    "#  71 -> 1971\n",
    "train.loc[train['build_year'] == 71, 'build_year'] = 1971\n",
    "test.loc[test['build_year'] == 71, 'build_year'] = 1971\n",
    "\n",
    "#  <1800 -> NA\n",
    "train.loc[train['build_year'] < 1800, 'build_year'] = np.nan\n",
    "test.loc[test['build_year'] < 1800, 'build_year'] = np.nan"
   ]
  },
  {
   "cell_type": "markdown",
   "metadata": {},
   "source": [
    "## num_room:"
   ]
  },
  {
   "cell_type": "code",
   "execution_count": 24,
   "metadata": {
    "collapsed": true
   },
   "outputs": [],
   "source": [
    "# >9 -> NA\n",
    "train.loc[train['num_room'] > 9, 'num_room'] = np.nan\n",
    "test.loc[test['num_room'] > 9, 'num_room'] = np.nan"
   ]
  },
  {
   "cell_type": "markdown",
   "metadata": {},
   "source": [
    "## kitch_sq:"
   ]
  },
  {
   "cell_type": "code",
   "execution_count": 32,
   "metadata": {},
   "outputs": [],
   "source": [
    "# kitch_sq > full_sq & kitch_sq > 100 -> NA\n",
    "train.loc[(train['kitch_sq'] > train['full_sq']) & (train['kitch_sq'] > 100), 'kitch_sq'] = np.nan\n",
    "test.loc[(test['kitch_sq'] > test['full_sq']) & (test['kitch_sq'] > 100), 'kitch_sq'] = np.nan"
   ]
  },
  {
   "cell_type": "markdown",
   "metadata": {},
   "source": [
    "## state:"
   ]
  },
  {
   "cell_type": "code",
   "execution_count": 25,
   "metadata": {
    "collapsed": true
   },
   "outputs": [],
   "source": [
    "## 33 -> 3\n",
    "train.loc[train['state'] == 33, 'state'] = 3\n",
    "test.loc[test['state'] == 33, 'state'] = 3"
   ]
  },
  {
   "cell_type": "code",
   "execution_count": null,
   "metadata": {
    "collapsed": true
   },
   "outputs": [],
   "source": []
  }
 ],
 "metadata": {
  "anaconda-cloud": {},
  "kernelspec": {
   "display_name": "Python 2",
   "language": "python",
   "name": "python2"
  },
  "language_info": {
   "codemirror_mode": {
    "name": "ipython",
    "version": 2
   },
   "file_extension": ".py",
   "mimetype": "text/x-python",
   "name": "python",
   "nbconvert_exporter": "python",
   "pygments_lexer": "ipython2",
   "version": "2.7.13"
  }
 },
 "nbformat": 4,
 "nbformat_minor": 1
}
